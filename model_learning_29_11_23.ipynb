{
 "cells": [
  {
   "cell_type": "code",
   "execution_count": 2,
   "metadata": {
    "id": "0I-BPnP8QhvN"
   },
   "outputs": [
    {
     "name": "stderr",
     "output_type": "stream",
     "text": [
      "2023-12-06 22:08:32.349931: I tensorflow/core/platform/cpu_feature_guard.cc:182] This TensorFlow binary is optimized to use available CPU instructions in performance-critical operations.\n",
      "To enable the following instructions: AVX2 FMA, in other operations, rebuild TensorFlow with the appropriate compiler flags.\n"
     ]
    }
   ],
   "source": [
    "import os\n",
    "import cv2\n",
    "import numpy as np\n",
    "from sklearn.model_selection import train_test_split\n",
    "from keras import layers, models\n",
    "import requests\n",
    "from io import BytesIO\n",
    "from zipfile import ZipFile\n",
    "import matplotlib.pyplot as plt\n",
    "from tqdm import tqdm"
   ]
  },
  {
   "cell_type": "code",
   "execution_count": null,
   "metadata": {
    "colab": {
     "base_uri": "https://localhost:8080/"
    },
    "id": "nPwTTghFWhBZ",
    "outputId": "7b915ac0-933d-4cc2-a64f-2af5e0b44c92"
   },
   "outputs": [
    {
     "name": "stdout",
     "output_type": "stream",
     "text": [
      "Mounted at /content/drive\n"
     ]
    }
   ],
   "source": [
    "# Загрузка и подготовка данных\n",
    "from google.colab import drive\n",
    "drive.mount('/content/drive')\n",
    "\n",
    "data_path = \"/content/drive/My Drive/Project/DataSetCyrillic\""
   ]
  },
  {
   "cell_type": "code",
   "execution_count": 3,
   "metadata": {
    "id": "1RpRrDgrX7cx",
    "scrolled": false
   },
   "outputs": [
    {
     "name": "stderr",
     "output_type": "stream",
     "text": [
      "100%|███████████████████████████████████████████| 64/64 [00:02<00:00, 28.09it/s]\n"
     ]
    }
   ],
   "source": [
    "# размер изображений 28 на 28 => входной вектор длины 784\n",
    "labels = []\n",
    "images = []\n",
    "\n",
    "for folder in tqdm(os.listdir('DataSetCyrillic/DataSetCyrillic')):\n",
    "    if (folder != '.DS_Store'):\n",
    "        for filename in os.listdir(os.path.join('DataSetCyrillic/DataSetCyrillic', folder)):\n",
    "            img_path = os.path.join('DataSetCyrillic/DataSetCyrillic', folder, filename)\n",
    "            img = cv2.imread(img_path, cv2.IMREAD_GRAYSCALE)\n",
    "            img = img / 255  # Нормализация значений пикселей\n",
    "            label = ord(folder[0]) - ord('А')\n",
    "            images.append(img)\n",
    "            labels.append(label)"
   ]
  },
  {
   "cell_type": "code",
   "execution_count": 4,
   "metadata": {
    "id": "3QKnJEGehbFk"
   },
   "outputs": [],
   "source": [
    "# Преобразование в массив numpy\n",
    "images = np.array(images)\n",
    "labels = np.array(labels)"
   ]
  },
  {
   "cell_type": "code",
   "execution_count": 150,
   "metadata": {
    "scrolled": true
   },
   "outputs": [
    {
     "data": {
      "text/plain": [
       "Counter({1: 197,\n",
       "         20: 196,\n",
       "         6: 196,\n",
       "         19: 196,\n",
       "         58: 196,\n",
       "         35: 196,\n",
       "         15: 196,\n",
       "         29: 196,\n",
       "         8: 392,\n",
       "         42: 196,\n",
       "         60: 196,\n",
       "         59: 196,\n",
       "         14: 196,\n",
       "         7: 196,\n",
       "         18: 196,\n",
       "         0: 196,\n",
       "         32: 196,\n",
       "         21: 196,\n",
       "         50: 196,\n",
       "         56: 196,\n",
       "         5: 392,\n",
       "         49: 196,\n",
       "         53: 196,\n",
       "         63: 196,\n",
       "         54: 196,\n",
       "         46: 196,\n",
       "         36: 196,\n",
       "         45: 196,\n",
       "         39: 196,\n",
       "         16: 196,\n",
       "         2: 196,\n",
       "         23: 196,\n",
       "         30: 196,\n",
       "         44: 196,\n",
       "         11: 196,\n",
       "         25: 196,\n",
       "         12: 196,\n",
       "         38: 196,\n",
       "         24: 196,\n",
       "         13: 196,\n",
       "         31: 196,\n",
       "         10: 196,\n",
       "         3: 199,\n",
       "         22: 196,\n",
       "         4: 196,\n",
       "         47: 196,\n",
       "         17: 196,\n",
       "         37: 392,\n",
       "         55: 196,\n",
       "         61: 196,\n",
       "         52: 196,\n",
       "         62: 196,\n",
       "         48: 196,\n",
       "         51: 196,\n",
       "         57: 196,\n",
       "         43: 196,\n",
       "         33: 196,\n",
       "         40: 392,\n",
       "         34: 200})"
      ]
     },
     "execution_count": 150,
     "metadata": {},
     "output_type": "execute_result"
    }
   ],
   "source": [
    "from collections import Counter\n",
    "\n",
    "Counter(labels)"
   ]
  },
  {
   "cell_type": "code",
   "execution_count": 8,
   "metadata": {
    "id": "ztsqu6VShjCf"
   },
   "outputs": [],
   "source": [
    "# Разделение данных на обучающий и тестовый наборы\n",
    "x_train, x_test, y_train, y_test = train_test_split(images, labels, test_size=0.2)"
   ]
  },
  {
   "cell_type": "code",
   "execution_count": 10,
   "metadata": {
    "scrolled": true
   },
   "outputs": [
    {
     "data": {
      "text/plain": [
       "(28, 28)"
      ]
     },
     "execution_count": 10,
     "metadata": {},
     "output_type": "execute_result"
    }
   ],
   "source": [
    "x_test[0].shape"
   ]
  },
  {
   "cell_type": "code",
   "execution_count": 11,
   "metadata": {
    "id": "QoNpR7cPmDMk"
   },
   "outputs": [],
   "source": [
    "from tensorflow import keras\n",
    "from tensorflow.keras.layers import Dense, Flatten"
   ]
  },
  {
   "cell_type": "code",
   "execution_count": 12,
   "metadata": {
    "colab": {
     "base_uri": "https://localhost:8080/"
    },
    "id": "IdXZc02CnVay",
    "outputId": "8591c31c-083d-4eb3-e42d-d206d015bdd0"
   },
   "outputs": [
    {
     "name": "stdout",
     "output_type": "stream",
     "text": [
      "Model: \"sequential\"\n",
      "_________________________________________________________________\n",
      " Layer (type)                Output Shape              Param #   \n",
      "=================================================================\n",
      " conv2d (Conv2D)             (None, 26, 26, 32)        320       \n",
      "                                                                 \n",
      " max_pooling2d (MaxPooling2  (None, 13, 13, 32)        0         \n",
      " D)                                                              \n",
      "                                                                 \n",
      " conv2d_1 (Conv2D)           (None, 11, 11, 64)        18496     \n",
      "                                                                 \n",
      " max_pooling2d_1 (MaxPoolin  (None, 5, 5, 64)          0         \n",
      " g2D)                                                            \n",
      "                                                                 \n",
      " flatten (Flatten)           (None, 1600)              0         \n",
      "                                                                 \n",
      " dense (Dense)               (None, 128)               204928    \n",
      "                                                                 \n",
      " dropout (Dropout)           (None, 128)               0         \n",
      "                                                                 \n",
      " dense_1 (Dense)             (None, 66)                8514      \n",
      "                                                                 \n",
      "=================================================================\n",
      "Total params: 232258 (907.26 KB)\n",
      "Trainable params: 232258 (907.26 KB)\n",
      "Non-trainable params: 0 (0.00 Byte)\n",
      "_________________________________________________________________\n",
      "None\n"
     ]
    }
   ],
   "source": [
    "from tensorflow.keras.layers import Dropout\n",
    "\n",
    "model = models.Sequential()\n",
    "model.add(layers.Conv2D(32, (3, 3), activation='relu', input_shape=(28, 28, 1)))\n",
    "model.add(layers.MaxPooling2D((2, 2)))\n",
    "model.add(layers.Conv2D(64, (3, 3), activation='relu'))  # Добавлен сверточный слой\n",
    "model.add(layers.MaxPooling2D((2, 2)))\n",
    "model.add(layers.Flatten())\n",
    "model.add(layers.Dense(128, activation='relu'))  # скрытый слой 128 нейронов\n",
    "model.add(Dropout(0.5))  # Добавлен слой Dropout\n",
    "model.add(layers.Dense(66, activation='softmax'))  # выходной 63 нейрона (33 буквы, из них все, кроме ъ, ы, ь в двух вариантах (большая и маленькая))\n",
    "# 66 для краткости\n",
    "\n",
    "print(model.summary())"
   ]
  },
  {
   "cell_type": "code",
   "execution_count": 13,
   "metadata": {
    "id": "-AcyW3wUoEvB"
   },
   "outputs": [],
   "source": [
    "model.compile(optimizer='adam', loss='sparse_categorical_crossentropy', metrics=['accuracy'])"
   ]
  },
  {
   "cell_type": "code",
   "execution_count": 14,
   "metadata": {
    "colab": {
     "base_uri": "https://localhost:8080/"
    },
    "id": "CouuJXU6pBLP",
    "outputId": "7dabc73b-fa83-4348-90ae-8ab35a2dae83",
    "scrolled": true
   },
   "outputs": [
    {
     "name": "stdout",
     "output_type": "stream",
     "text": [
      "Epoch 1/20\n",
      "495/495 [==============================] - 5s 9ms/step - loss: 3.8218 - accuracy: 0.0727 - val_loss: 2.9965 - val_accuracy: 0.2180\n",
      "Epoch 2/20\n",
      "495/495 [==============================] - 4s 8ms/step - loss: 2.7397 - accuracy: 0.2274 - val_loss: 1.8429 - val_accuracy: 0.5185\n",
      "Epoch 3/20\n",
      "495/495 [==============================] - 4s 8ms/step - loss: 2.0290 - accuracy: 0.3851 - val_loss: 1.3417 - val_accuracy: 0.6571\n",
      "Epoch 4/20\n",
      "495/495 [==============================] - 4s 9ms/step - loss: 1.6408 - accuracy: 0.4934 - val_loss: 1.0265 - val_accuracy: 0.7314\n",
      "Epoch 5/20\n",
      "495/495 [==============================] - 4s 9ms/step - loss: 1.3674 - accuracy: 0.5676 - val_loss: 0.7870 - val_accuracy: 0.7729\n",
      "Epoch 6/20\n",
      "495/495 [==============================] - 4s 9ms/step - loss: 1.1977 - accuracy: 0.6179 - val_loss: 0.6514 - val_accuracy: 0.8108\n",
      "Epoch 7/20\n",
      "495/495 [==============================] - 4s 9ms/step - loss: 1.0704 - accuracy: 0.6508 - val_loss: 0.5885 - val_accuracy: 0.8376\n",
      "Epoch 8/20\n",
      "495/495 [==============================] - 4s 8ms/step - loss: 0.9769 - accuracy: 0.6799 - val_loss: 0.4837 - val_accuracy: 0.8548\n",
      "Epoch 9/20\n",
      "495/495 [==============================] - 4s 8ms/step - loss: 0.8956 - accuracy: 0.7081 - val_loss: 0.4647 - val_accuracy: 0.8720\n",
      "Epoch 10/20\n",
      "495/495 [==============================] - 4s 8ms/step - loss: 0.8330 - accuracy: 0.7175 - val_loss: 0.4243 - val_accuracy: 0.8680\n",
      "Epoch 11/20\n",
      "495/495 [==============================] - 4s 9ms/step - loss: 0.7700 - accuracy: 0.7469 - val_loss: 0.3717 - val_accuracy: 0.8968\n",
      "Epoch 12/20\n",
      "495/495 [==============================] - 4s 9ms/step - loss: 0.7454 - accuracy: 0.7490 - val_loss: 0.3997 - val_accuracy: 0.8624\n",
      "Epoch 13/20\n",
      "495/495 [==============================] - 4s 9ms/step - loss: 0.7023 - accuracy: 0.7606 - val_loss: 0.3368 - val_accuracy: 0.8943\n",
      "Epoch 14/20\n",
      "495/495 [==============================] - 4s 9ms/step - loss: 0.6893 - accuracy: 0.7660 - val_loss: 0.3098 - val_accuracy: 0.9145\n",
      "Epoch 15/20\n",
      "495/495 [==============================] - 4s 9ms/step - loss: 0.6518 - accuracy: 0.7724 - val_loss: 0.3330 - val_accuracy: 0.8948\n",
      "Epoch 16/20\n",
      "495/495 [==============================] - 4s 8ms/step - loss: 0.6268 - accuracy: 0.7940 - val_loss: 0.2641 - val_accuracy: 0.9236\n",
      "Epoch 17/20\n",
      "495/495 [==============================] - 4s 8ms/step - loss: 0.6076 - accuracy: 0.7930 - val_loss: 0.2509 - val_accuracy: 0.9267\n",
      "Epoch 18/20\n",
      "495/495 [==============================] - 4s 9ms/step - loss: 0.5799 - accuracy: 0.7983 - val_loss: 0.2511 - val_accuracy: 0.9282\n",
      "Epoch 19/20\n",
      "495/495 [==============================] - 4s 9ms/step - loss: 0.5611 - accuracy: 0.8045 - val_loss: 0.2398 - val_accuracy: 0.9251\n",
      "Epoch 20/20\n",
      "495/495 [==============================] - 4s 9ms/step - loss: 0.5405 - accuracy: 0.8156 - val_loss: 0.2315 - val_accuracy: 0.9282\n"
     ]
    },
    {
     "data": {
      "text/plain": [
       "<keras.src.callbacks.History at 0x7f820e39f070>"
      ]
     },
     "execution_count": 14,
     "metadata": {},
     "output_type": "execute_result"
    }
   ],
   "source": [
    "model.fit(x_train, y_train, batch_size=16, epochs=20, validation_split=0.2)"
   ]
  },
  {
   "cell_type": "code",
   "execution_count": 146,
   "metadata": {
    "colab": {
     "base_uri": "https://localhost:8080/",
     "height": 760
    },
    "id": "BWBW1eHsFjX5",
    "outputId": "e1a55dd7-9886-4dd3-d999-91a831c789ce",
    "scrolled": false
   },
   "outputs": [
    {
     "data": {
      "image/png": "[encoded data removed]",
      "text/plain": [
       "<Figure size 640x480 with 1 Axes>"
      ]
     },
     "metadata": {},
     "output_type": "display_data"
    },
    {
     "name": "stdout",
     "output_type": "stream",
     "text": [
      "1/1 [==============================] - 0s 18ms/step\n",
      "[[1.0129330e-33 3.7925320e-31 1.2308964e-26 6.2499249e-29 4.1828328e-29\n",
      "  1.2267915e-31 8.0670924e-19 0.0000000e+00 1.3280512e-18 7.0971782e-38\n",
      "  1.0994098e-20 2.6220476e-36 1.9515764e-20 8.7560563e-24 1.0037570e-22\n",
      "  7.5397459e-35 1.7070102e-24 9.0893566e-29 0.0000000e+00 1.3315637e-30\n",
      "  9.9209950e-18 1.5479929e-28 1.9624340e-32 4.7396053e-30 8.8323725e-17\n",
      "  1.0197862e-21 1.0192732e-35 4.8097815e-38 0.0000000e+00 0.0000000e+00\n",
      "  2.2031000e-11 3.9670829e-33 4.9213566e-33 2.3162605e-38 3.4492866e-21\n",
      "  8.2173944e-25 1.3269611e-35 2.8764226e-18 1.3299876e-11 0.0000000e+00\n",
      "  4.5406106e-11 2.2781689e-37 7.1451347e-09 2.8644325e-33 6.4641814e-10\n",
      "  1.4605696e-14 0.0000000e+00 5.1641739e-25 1.1695308e-19 2.0453667e-28\n",
      "  2.4503906e-12 3.4846015e-19 2.1567043e-15 1.7403012e-22 2.3981401e-25\n",
      "  1.1865521e-21 1.3906035e-07 1.4396106e-14 1.0737311e-31 2.4339606e-09\n",
      "  6.3922672e-19 0.0000000e+00 9.9999988e-01 1.2231745e-24 0.0000000e+00\n",
      "  3.4970491e-36]]\n",
      "Распознанная буква: ю\n",
      "[[1. 1. 1. 1. 1. 1. 1. 1. 1. 1. 1. 1. 1. 1. 1. 1. 1. 1. 1. 1. 1. 1. 1. 1.\n",
      "  1. 1. 1. 1.]\n",
      " [1. 1. 1. 1. 1. 1. 1. 1. 1. 1. 1. 1. 1. 1. 1. 1. 1. 1. 1. 1. 1. 1. 1. 1.\n",
      "  1. 1. 1. 1.]\n",
      " [1. 1. 1. 1. 1. 1. 1. 1. 1. 1. 1. 1. 1. 1. 1. 1. 1. 1. 1. 1. 1. 1. 1. 1.\n",
      "  1. 1. 1. 1.]\n",
      " [1. 1. 1. 1. 1. 1. 1. 1. 1. 1. 1. 1. 1. 1. 1. 1. 1. 1. 1. 1. 1. 1. 1. 1.\n",
      "  1. 1. 1. 1.]\n",
      " [1. 1. 1. 1. 1. 1. 1. 1. 1. 1. 1. 1. 1. 1. 1. 1. 0. 0. 1. 1. 1. 1. 1. 1.\n",
      "  1. 1. 1. 1.]\n",
      " [1. 1. 1. 1. 1. 1. 1. 0. 0. 0. 0. 0. 0. 1. 0. 0. 1. 0. 0. 0. 0. 1. 1. 1.\n",
      "  1. 1. 1. 1.]\n",
      " [1. 1. 1. 1. 1. 1. 1. 1. 1. 1. 0. 0. 0. 0. 1. 1. 1. 1. 1. 0. 0. 0. 0. 1.\n",
      "  1. 1. 1. 1.]\n",
      " [1. 1. 1. 1. 1. 1. 1. 1. 1. 1. 0. 0. 0. 1. 1. 1. 1. 1. 1. 1. 0. 0. 0. 1.\n",
      "  1. 1. 1. 1.]\n",
      " [1. 1. 1. 1. 1. 1. 1. 1. 1. 1. 0. 0. 0. 1. 1. 1. 1. 1. 1. 1. 1. 0. 0. 0.\n",
      "  1. 1. 1. 0.]\n",
      " [1. 1. 1. 1. 1. 1. 1. 1. 1. 1. 0. 0. 0. 1. 1. 1. 1. 1. 1. 1. 1. 0. 0. 0.\n",
      "  1. 1. 1. 0.]\n",
      " [1. 1. 1. 1. 1. 1. 1. 1. 1. 1. 0. 0. 0. 1. 1. 1. 1. 1. 1. 1. 1. 1. 0. 0.\n",
      "  0. 1. 1. 0.]\n",
      " [1. 1. 1. 1. 1. 1. 1. 1. 1. 1. 0. 0. 0. 1. 1. 1. 1. 1. 1. 1. 1. 1. 0. 0.\n",
      "  0. 1. 1. 0.]\n",
      " [1. 1. 1. 1. 1. 1. 1. 1. 1. 1. 0. 0. 0. 1. 1. 1. 1. 1. 1. 1. 1. 1. 0. 0.\n",
      "  0. 1. 1. 0.]\n",
      " [1. 1. 1. 1. 1. 1. 1. 1. 1. 1. 0. 0. 0. 1. 1. 1. 1. 1. 1. 1. 1. 0. 0. 0.\n",
      "  1. 1. 1. 0.]\n",
      " [1. 1. 1. 1. 1. 1. 1. 1. 1. 1. 0. 0. 0. 1. 1. 1. 1. 1. 1. 1. 1. 0. 0. 0.\n",
      "  1. 1. 1. 1.]\n",
      " [1. 1. 1. 1. 1. 1. 1. 1. 1. 1. 0. 0. 0. 1. 1. 1. 1. 1. 1. 1. 0. 0. 0. 1.\n",
      "  1. 1. 1. 1.]\n",
      " [1. 1. 1. 1. 1. 1. 1. 1. 1. 1. 0. 0. 0. 0. 1. 1. 1. 1. 1. 0. 0. 0. 1. 1.\n",
      "  1. 1. 1. 1.]\n",
      " [1. 1. 1. 1. 1. 1. 1. 1. 1. 1. 0. 0. 0. 0. 0. 0. 0. 0. 0. 0. 0. 1. 1. 1.\n",
      "  1. 1. 1. 1.]\n",
      " [1. 1. 1. 1. 1. 1. 1. 1. 1. 1. 0. 0. 0. 1. 1. 1. 1. 1. 1. 1. 1. 1. 1. 1.\n",
      "  1. 1. 1. 1.]\n",
      " [1. 1. 1. 1. 1. 1. 1. 1. 1. 1. 0. 0. 0. 1. 1. 1. 1. 1. 1. 1. 1. 1. 1. 1.\n",
      "  1. 1. 1. 1.]\n",
      " [1. 1. 1. 1. 1. 1. 1. 1. 1. 1. 0. 0. 0. 1. 1. 1. 1. 1. 1. 1. 1. 1. 1. 1.\n",
      "  1. 1. 1. 1.]\n",
      " [1. 1. 1. 1. 1. 1. 1. 1. 1. 1. 0. 0. 0. 1. 1. 1. 1. 1. 1. 1. 1. 1. 1. 1.\n",
      "  1. 1. 1. 1.]\n",
      " [1. 1. 1. 1. 1. 1. 1. 1. 0. 0. 0. 0. 0. 0. 1. 1. 1. 1. 1. 1. 1. 1. 1. 1.\n",
      "  1. 1. 1. 1.]\n",
      " [1. 1. 1. 1. 1. 1. 1. 1. 0. 0. 0. 0. 0. 0. 0. 1. 1. 1. 1. 1. 1. 1. 1. 1.\n",
      "  1. 1. 1. 1.]\n",
      " [1. 1. 1. 1. 1. 1. 1. 1. 1. 1. 1. 1. 1. 1. 1. 1. 1. 1. 1. 1. 1. 1. 1. 1.\n",
      "  1. 1. 1. 1.]\n",
      " [1. 1. 1. 1. 1. 1. 1. 1. 1. 1. 1. 1. 1. 1. 1. 1. 1. 1. 1. 1. 1. 1. 1. 1.\n",
      "  1. 1. 1. 1.]\n",
      " [1. 1. 1. 1. 1. 1. 1. 1. 1. 1. 1. 1. 1. 1. 1. 1. 1. 1. 1. 1. 1. 1. 1. 1.\n",
      "  1. 1. 1. 1.]\n",
      " [1. 1. 1. 1. 1. 1. 1. 1. 1. 1. 1. 1. 1. 1. 1. 1. 1. 1. 1. 1. 1. 1. 1. 1.\n",
      "  1. 1. 1. 1.]]\n"
     ]
    }
   ],
   "source": [
    "n = 109\n",
    "\n",
    "img = cv2.imread('app/1.png', cv2.IMREAD_GRAYSCALE)\n",
    "img = img / 255\n",
    "img = cv2.resize(img, (28, 28), interpolation=cv2.INTER_AREA)\n",
    "_,img = cv2.threshold (img, 0.7,1, cv2.THRESH_BINARY)\n",
    "plt.imshow(img, cmap='gray')\n",
    "plt.show()\n",
    "x = np.expand_dims(x_test[n], axis=0)\n",
    "res = model.predict(x)\n",
    "print( res )\n",
    "print(f'Распознанная буква: {chr(int(np.argmax(res)) + ord(\"А\"))}')\n",
    "print(img)"
   ]
  },
  {
   "cell_type": "code",
   "execution_count": null,
   "metadata": {},
   "outputs": [],
   "source": []
  }
 ],
 "metadata": {
  "colab": {
   "provenance": []
  },
  "kernelspec": {
   "display_name": "Python 3 (ipykernel)",
   "language": "python",
   "name": "python3"
  },
  "language_info": {
   "codemirror_mode": {
    "name": "ipython",
    "version": 3
   },
   "file_extension": ".py",
   "mimetype": "text/x-python",
   "name": "python",
   "nbconvert_exporter": "python",
   "pygments_lexer": "ipython3",
   "version": "3.8.18"
  }
 },
 "nbformat": 4,
 "nbformat_minor": 1
}
