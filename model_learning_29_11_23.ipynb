{
  "nbformat": 4,
  "nbformat_minor": 0,
  "metadata": {
    "colab": {
      "provenance": []
    },
    "kernelspec": {
      "name": "python3",
      "display_name": "Python 3"
    },
    "language_info": {
      "name": "python"
    }
  },
  "cells": [
    {
      "cell_type": "code",
      "execution_count": 1,
      "metadata": {
        "id": "0I-BPnP8QhvN"
      },
      "outputs": [],
      "source": [
        "import os\n",
        "import cv2\n",
        "import numpy as np\n",
        "from sklearn.model_selection import train_test_split\n",
        "from keras import layers, models\n",
        "import requests\n",
        "from io import BytesIO\n",
        "from zipfile import ZipFile\n",
        "import matplotlib.pyplot as plt"
      ]
    },
    {
      "cell_type": "code",
      "source": [
        "# Загрузка и подготовка данных\n",
        "from google.colab import drive\n",
        "drive.mount('/content/drive')\n",
        "\n",
        "data_path = \"/content/drive/My Drive/Project/DataSetCyrillic\""
      ],
      "metadata": {
        "colab": {
          "base_uri": "https://localhost:8080/"
        },
        "id": "nPwTTghFWhBZ",
        "outputId": "6c9f7c6b-8083-4284-bc1a-68fe817da330"
      },
      "execution_count": 2,
      "outputs": [
        {
          "output_type": "stream",
          "name": "stdout",
          "text": [
            "Mounted at /content/drive\n"
          ]
        }
      ]
    },
    {
      "cell_type": "code",
      "source": [
        "# размер изображений 28 на 28 => входной вектор длины 784\n",
        "labels = []\n",
        "images = []\n",
        "\n",
        "for folder in os.listdir(data_path):\n",
        "  #print(folder)\n",
        "  for filename in os.listdir(os.path.join(data_path, folder)):\n",
        "      img_path = os.path.join(data_path, folder, filename)\n",
        "      img = cv2.imread(img_path, cv2.IMREAD_GRAYSCALE)\n",
        "      img = img / 255  # Нормализация значений пикселей\n",
        "      if (folder == '-'):\n",
        "        label = 66\n",
        "      elif (folder == '!'):\n",
        "        label = 67\n",
        "      elif (folder == '#'):\n",
        "        label = 68\n",
        "      elif (folder == '$'):\n",
        "        label = 69\n",
        "      elif (folder == '%'):\n",
        "        label = 70\n",
        "      elif (folder == '('):\n",
        "        label = 71\n",
        "      elif (folder == ')'):\n",
        "        label = 72\n",
        "      elif (folder == ','):\n",
        "        label = 73\n",
        "      elif (folder == ';'):\n",
        "        label = 74\n",
        "      elif (folder == '@'):\n",
        "        label = 75\n",
        "      elif (folder == '['):\n",
        "        label = 76\n",
        "      elif (folder == ']'):\n",
        "        label = 77\n",
        "      elif (folder == '^'):\n",
        "        label = 78\n",
        "      elif (folder == '~'):\n",
        "        label = 79\n",
        "      elif (folder == '+'):\n",
        "        label = 80\n",
        "      elif (folder == '='):\n",
        "        label = 81\n",
        "      elif (folder == '0'):\n",
        "        label = 82\n",
        "      elif (folder == '1'):\n",
        "        label = 83\n",
        "      elif (folder == '2'):\n",
        "        label = 84\n",
        "      elif (folder == '3'):\n",
        "        label = 85\n",
        "      elif (folder == '4'):\n",
        "        label = 86\n",
        "      elif (folder == '5'):\n",
        "        label = 87\n",
        "      elif (folder == '6'):\n",
        "        label = 88\n",
        "      elif (folder == '7'):\n",
        "        label = 89\n",
        "      elif (folder == '8'):\n",
        "        label = 90\n",
        "      elif (folder == '9'):\n",
        "        label = 91\n",
        "      elif (folder == '№'):\n",
        "        label = 92\n",
        "      elif (folder == 'амперсант'):\n",
        "        label = 93\n",
        "      elif (folder == 'больше'):\n",
        "        label = 94\n",
        "      elif (folder == 'вопрос'):\n",
        "        label = 95\n",
        "      elif (folder == 'двоеточие'):\n",
        "        label = 96\n",
        "      elif (folder == 'звёздочка'):\n",
        "        label = 97\n",
        "      elif (folder == 'кавычки'):\n",
        "        label = 98\n",
        "      elif (folder == 'меньше'):\n",
        "        label = 99\n",
        "      elif (folder == 'слеш'):\n",
        "        label = 100\n",
        "      elif (folder == 'пробел'):\n",
        "        label = 101\n",
        "      elif (folder == 'прямой слеш'):\n",
        "        label = 102\n",
        "      elif (folder == 'обратный слеш'):\n",
        "        label = 103\n",
        "      elif (folder == 'точка'):\n",
        "        label = 104\n",
        "      elif (folder == 'фигурная скобка откр'):\n",
        "        label = 105\n",
        "      elif (folder == 'фигурная скобка закр'):\n",
        "        label = 106\n",
        "      else:\n",
        "        label = ord(folder[0]) - ord('А')\n",
        "      images.append(img)\n",
        "      labels.append(label)\n",
        "  '''for filename in os.listdir(os.path.join(data_path, folder)):\n",
        "      img_path = os.path.join(data_path, folder, filename)\n",
        "      img = cv2.imread(img_path, cv2.IMREAD_GRAYSCALE)\n",
        "      img = img / 255  # Нормализация значений пикселей\n",
        "      label = ord(folder[0]) - ord('А')\n",
        "      images.append(img)\n",
        "      labels.append(label)'''"
      ],
      "metadata": {
        "id": "1RpRrDgrX7cx"
      },
      "execution_count": 3,
      "outputs": []
    },
    {
      "cell_type": "code",
      "source": [
        "# Преобразование в массив numpy\n",
        "images = np.array(images)\n",
        "labels = np.array(labels)"
      ],
      "metadata": {
        "id": "3QKnJEGehbFk"
      },
      "execution_count": 4,
      "outputs": []
    },
    {
      "cell_type": "code",
      "source": [
        "# Разделение данных на обучающий и тестовый наборы\n",
        "x_train, x_test, y_train, y_test = train_test_split(images, labels, test_size=0.2)"
      ],
      "metadata": {
        "id": "ztsqu6VShjCf"
      },
      "execution_count": 5,
      "outputs": []
    },
    {
      "cell_type": "code",
      "source": [
        "from tensorflow import keras\n",
        "from tensorflow.keras.layers import Dense, Flatten"
      ],
      "metadata": {
        "id": "QoNpR7cPmDMk"
      },
      "execution_count": 6,
      "outputs": []
    },
    {
      "cell_type": "code",
      "source": [
        "from tensorflow.keras.layers import Dropout\n",
        "\n",
        "model = models.Sequential()\n",
        "model.add(layers.Conv2D(32, (3, 3), activation='relu', input_shape=(28, 28, 1)))\n",
        "model.add(layers.MaxPooling2D((2, 2)))\n",
        "#model.add(layers.Conv2D(64, (3, 3), activation='relu'))  # Добавлен сверточный слой\n",
        "#model.add(layers.MaxPooling2D((2, 2)))\n",
        "model.add(layers.Flatten())\n",
        "model.add(layers.Dense(428, activation='relu'))  # скрытый слой 128 нейронов\n",
        "model.add(Dropout(0.5))  # Добавлен слой Dropout\n",
        "model.add(layers.Dense(107, activation='softmax'))  # выходной 63 нейрона (33 буквы, из них все, кроме ъ, ы, ь в двух вариантах (большая и маленькая))\n",
        "# 66 для краткости\n",
        "\n",
        "#print(model.summary())"
      ],
      "metadata": {
        "id": "IdXZc02CnVay"
      },
      "execution_count": 19,
      "outputs": []
    },
    {
      "cell_type": "code",
      "source": [
        "#model.build(input_shape=(28730, 28, 28, 1))\n",
        "model.compile(optimizer='adam', loss='sparse_categorical_crossentropy', metrics=['accuracy'])"
      ],
      "metadata": {
        "id": "-AcyW3wUoEvB"
      },
      "execution_count": 20,
      "outputs": []
    },
    {
      "cell_type": "code",
      "source": [
        "history = model.fit(x_train, y_train, batch_size=107, epochs=50, validation_split=0.2)"
      ],
      "metadata": {
        "colab": {
          "base_uri": "https://localhost:8080/"
        },
        "id": "CouuJXU6pBLP",
        "outputId": "f2425f6b-a47d-4ed3-f137-852ac2a157d0"
      },
      "execution_count": 21,
      "outputs": [
        {
          "output_type": "stream",
          "name": "stdout",
          "text": [
            "Epoch 1/50\n",
            "172/172 [==============================] - 18s 99ms/step - loss: 4.2277 - accuracy: 0.0505 - val_loss: 3.7143 - val_accuracy: 0.1405\n",
            "Epoch 2/50\n",
            "172/172 [==============================] - 17s 99ms/step - loss: 3.4172 - accuracy: 0.1620 - val_loss: 2.8799 - val_accuracy: 0.3280\n",
            "Epoch 3/50\n",
            "172/172 [==============================] - 17s 100ms/step - loss: 2.8065 - accuracy: 0.2809 - val_loss: 2.3437 - val_accuracy: 0.4640\n",
            "Epoch 4/50\n",
            "172/172 [==============================] - 19s 108ms/step - loss: 2.3707 - accuracy: 0.3758 - val_loss: 1.9442 - val_accuracy: 0.5541\n",
            "Epoch 5/50\n",
            "172/172 [==============================] - 16s 94ms/step - loss: 2.0580 - accuracy: 0.4504 - val_loss: 1.7056 - val_accuracy: 0.5902\n",
            "Epoch 6/50\n",
            "172/172 [==============================] - 16s 95ms/step - loss: 1.8324 - accuracy: 0.5002 - val_loss: 1.4917 - val_accuracy: 0.6380\n",
            "Epoch 7/50\n",
            "172/172 [==============================] - 18s 102ms/step - loss: 1.6398 - accuracy: 0.5437 - val_loss: 1.3217 - val_accuracy: 0.6785\n",
            "Epoch 8/50\n",
            "172/172 [==============================] - 16s 94ms/step - loss: 1.4976 - accuracy: 0.5806 - val_loss: 1.2010 - val_accuracy: 0.7026\n",
            "Epoch 9/50\n",
            "172/172 [==============================] - 17s 98ms/step - loss: 1.3720 - accuracy: 0.6103 - val_loss: 1.1052 - val_accuracy: 0.7379\n",
            "Epoch 10/50\n",
            "172/172 [==============================] - 17s 96ms/step - loss: 1.2702 - accuracy: 0.6410 - val_loss: 1.0113 - val_accuracy: 0.7468\n",
            "Epoch 11/50\n",
            "172/172 [==============================] - 17s 99ms/step - loss: 1.1906 - accuracy: 0.6598 - val_loss: 0.9304 - val_accuracy: 0.7694\n",
            "Epoch 12/50\n",
            "172/172 [==============================] - 16s 94ms/step - loss: 1.1137 - accuracy: 0.6767 - val_loss: 0.8910 - val_accuracy: 0.7731\n",
            "Epoch 13/50\n",
            "172/172 [==============================] - 16s 95ms/step - loss: 1.0437 - accuracy: 0.6926 - val_loss: 0.8121 - val_accuracy: 0.8053\n",
            "Epoch 14/50\n",
            "172/172 [==============================] - 18s 105ms/step - loss: 0.9739 - accuracy: 0.7129 - val_loss: 0.7713 - val_accuracy: 0.8088\n",
            "Epoch 15/50\n",
            "172/172 [==============================] - 16s 95ms/step - loss: 0.9404 - accuracy: 0.7189 - val_loss: 0.7261 - val_accuracy: 0.8310\n",
            "Epoch 16/50\n",
            "172/172 [==============================] - 18s 104ms/step - loss: 0.8989 - accuracy: 0.7339 - val_loss: 0.6996 - val_accuracy: 0.8323\n",
            "Epoch 17/50\n",
            "172/172 [==============================] - 19s 108ms/step - loss: 0.8438 - accuracy: 0.7481 - val_loss: 0.6741 - val_accuracy: 0.8229\n",
            "Epoch 18/50\n",
            "172/172 [==============================] - 17s 97ms/step - loss: 0.8062 - accuracy: 0.7535 - val_loss: 0.6358 - val_accuracy: 0.8347\n",
            "Epoch 19/50\n",
            "172/172 [==============================] - 17s 98ms/step - loss: 0.7655 - accuracy: 0.7703 - val_loss: 0.6138 - val_accuracy: 0.8464\n",
            "Epoch 20/50\n",
            "172/172 [==============================] - 17s 97ms/step - loss: 0.7287 - accuracy: 0.7849 - val_loss: 0.5855 - val_accuracy: 0.8562\n",
            "Epoch 21/50\n",
            "172/172 [==============================] - 17s 96ms/step - loss: 0.7032 - accuracy: 0.7837 - val_loss: 0.5771 - val_accuracy: 0.8536\n",
            "Epoch 22/50\n",
            "172/172 [==============================] - 17s 99ms/step - loss: 0.6772 - accuracy: 0.7970 - val_loss: 0.5488 - val_accuracy: 0.8708\n",
            "Epoch 23/50\n",
            "172/172 [==============================] - 17s 97ms/step - loss: 0.6475 - accuracy: 0.8032 - val_loss: 0.5353 - val_accuracy: 0.8710\n",
            "Epoch 24/50\n",
            "172/172 [==============================] - 17s 99ms/step - loss: 0.6245 - accuracy: 0.8078 - val_loss: 0.5284 - val_accuracy: 0.8736\n",
            "Epoch 25/50\n",
            "172/172 [==============================] - 17s 97ms/step - loss: 0.5990 - accuracy: 0.8174 - val_loss: 0.5135 - val_accuracy: 0.8788\n",
            "Epoch 26/50\n",
            "172/172 [==============================] - 17s 99ms/step - loss: 0.5904 - accuracy: 0.8179 - val_loss: 0.5338 - val_accuracy: 0.8738\n",
            "Epoch 27/50\n",
            "172/172 [==============================] - 17s 101ms/step - loss: 0.5758 - accuracy: 0.8235 - val_loss: 0.4833 - val_accuracy: 0.8884\n",
            "Epoch 28/50\n",
            "172/172 [==============================] - 17s 96ms/step - loss: 0.5501 - accuracy: 0.8302 - val_loss: 0.4636 - val_accuracy: 0.8949\n",
            "Epoch 29/50\n",
            "172/172 [==============================] - 17s 98ms/step - loss: 0.5365 - accuracy: 0.8339 - val_loss: 0.4685 - val_accuracy: 0.8945\n",
            "Epoch 30/50\n",
            "172/172 [==============================] - 17s 98ms/step - loss: 0.5187 - accuracy: 0.8416 - val_loss: 0.4529 - val_accuracy: 0.8917\n",
            "Epoch 31/50\n",
            "172/172 [==============================] - 17s 97ms/step - loss: 0.5064 - accuracy: 0.8444 - val_loss: 0.4513 - val_accuracy: 0.8928\n",
            "Epoch 32/50\n",
            "172/172 [==============================] - 17s 98ms/step - loss: 0.4864 - accuracy: 0.8486 - val_loss: 0.4505 - val_accuracy: 0.8910\n",
            "Epoch 33/50\n",
            "172/172 [==============================] - 17s 97ms/step - loss: 0.4881 - accuracy: 0.8459 - val_loss: 0.4515 - val_accuracy: 0.8975\n",
            "Epoch 34/50\n",
            "172/172 [==============================] - 17s 98ms/step - loss: 0.4608 - accuracy: 0.8564 - val_loss: 0.4640 - val_accuracy: 0.8923\n",
            "Epoch 35/50\n",
            "172/172 [==============================] - 16s 94ms/step - loss: 0.4589 - accuracy: 0.8565 - val_loss: 0.4204 - val_accuracy: 0.9032\n",
            "Epoch 36/50\n",
            "172/172 [==============================] - 16s 95ms/step - loss: 0.4403 - accuracy: 0.8646 - val_loss: 0.4192 - val_accuracy: 0.9019\n",
            "Epoch 37/50\n",
            "172/172 [==============================] - 17s 97ms/step - loss: 0.4300 - accuracy: 0.8666 - val_loss: 0.4084 - val_accuracy: 0.9093\n",
            "Epoch 38/50\n",
            "172/172 [==============================] - 16s 91ms/step - loss: 0.4212 - accuracy: 0.8665 - val_loss: 0.4101 - val_accuracy: 0.9071\n",
            "Epoch 39/50\n",
            "172/172 [==============================] - 17s 100ms/step - loss: 0.4042 - accuracy: 0.8748 - val_loss: 0.4171 - val_accuracy: 0.9030\n",
            "Epoch 40/50\n",
            "172/172 [==============================] - 17s 96ms/step - loss: 0.4129 - accuracy: 0.8696 - val_loss: 0.4081 - val_accuracy: 0.9095\n",
            "Epoch 41/50\n",
            "172/172 [==============================] - 17s 96ms/step - loss: 0.4001 - accuracy: 0.8731 - val_loss: 0.4155 - val_accuracy: 0.9082\n",
            "Epoch 42/50\n",
            "172/172 [==============================] - 16s 96ms/step - loss: 0.3889 - accuracy: 0.8787 - val_loss: 0.3993 - val_accuracy: 0.9073\n",
            "Epoch 43/50\n",
            "172/172 [==============================] - 17s 96ms/step - loss: 0.3906 - accuracy: 0.8751 - val_loss: 0.3855 - val_accuracy: 0.9108\n",
            "Epoch 44/50\n",
            "172/172 [==============================] - 17s 98ms/step - loss: 0.3727 - accuracy: 0.8827 - val_loss: 0.3957 - val_accuracy: 0.9119\n",
            "Epoch 45/50\n",
            "172/172 [==============================] - 17s 98ms/step - loss: 0.3617 - accuracy: 0.8840 - val_loss: 0.3881 - val_accuracy: 0.9171\n",
            "Epoch 46/50\n",
            "172/172 [==============================] - 16s 95ms/step - loss: 0.3499 - accuracy: 0.8894 - val_loss: 0.3970 - val_accuracy: 0.9162\n",
            "Epoch 47/50\n",
            "172/172 [==============================] - 17s 96ms/step - loss: 0.3475 - accuracy: 0.8898 - val_loss: 0.3939 - val_accuracy: 0.9154\n",
            "Epoch 48/50\n",
            "172/172 [==============================] - 17s 99ms/step - loss: 0.3431 - accuracy: 0.8906 - val_loss: 0.3911 - val_accuracy: 0.9149\n",
            "Epoch 49/50\n",
            "172/172 [==============================] - 19s 110ms/step - loss: 0.3228 - accuracy: 0.8974 - val_loss: 0.3861 - val_accuracy: 0.9199\n",
            "Epoch 50/50\n",
            "172/172 [==============================] - 16s 94ms/step - loss: 0.3338 - accuracy: 0.8935 - val_loss: 0.3870 - val_accuracy: 0.9156\n"
          ]
        }
      ]
    },
    {
      "cell_type": "code",
      "source": [
        "# Получение данных обучения\n",
        "train_loss = history.history['loss']\n",
        "train_acc = history.history['accuracy']\n",
        "val_loss = history.history['val_loss']\n",
        "val_acc = history.history['val_accuracy']\n",
        "\n",
        "# Построение графиков\n",
        "epochs = range(1, len(train_loss) + 1)\n",
        "\n",
        "# График функции потерь\n",
        "plt.plot(epochs, train_loss, 'bo', label='Training Loss')\n",
        "plt.plot(epochs, val_loss, 'b', label='Validation Loss')\n",
        "plt.title('Training and Validation Loss')\n",
        "plt.xlabel('Epochs')\n",
        "plt.ylabel('Loss')\n",
        "plt.legend()\n",
        "plt.show()\n",
        "\n",
        "# График точности\n",
        "plt.clf()\n",
        "plt.plot(epochs, train_acc, 'bo', label='Training Accuracy')\n",
        "plt.plot(epochs, val_acc, 'b', label='Validation Accuracy')\n",
        "plt.title('Training and Validation Accuracy')\n",
        "plt.xlabel('Epochs')\n",
        "plt.ylabel('Accuracy')\n",
        "plt.legend()\n",
        "plt.show()"
      ],
      "metadata": {
        "colab": {
          "base_uri": "https://localhost:8080/",
          "height": 927
        },
        "id": "fTKJ9RMfk41H",
        "outputId": "6e49b7c6-12a8-4101-c6eb-9d293c4523c6"
      },
      "execution_count": 22,
      "outputs": [
        {
          "output_type": "display_data",
          "data": {
            "text/plain": [
              "<Figure size 640x480 with 1 Axes>"
            ],
            "image/png": "[encoded data removed]"
          },
          "metadata": {}
        },
        {
          "output_type": "display_data",
          "data": {
            "text/plain": [
              "<Figure size 640x480 with 1 Axes>"
            ],
            "image/png": "[encoded data removed]"
          },
          "metadata": {}
        }
      ]
    },
    {
      "cell_type": "code",
      "source": [
        "n = 5\n",
        "x = np.expand_dims(x_test[n], axis=0)\n",
        "res = model.predict(x)\n",
        "print( res )\n",
        "if (65 < int(np.argmax(res)) < 107):\n",
        "  if (int(np.argmax(res)) == 66):\n",
        "    print('-')\n",
        "  elif (int(np.argmax(res)) == 67):\n",
        "    print('!')\n",
        "  elif (int(np.argmax(res)) == 68):\n",
        "    print('#')\n",
        "  elif (int(np.argmax(res)) == 69):\n",
        "    print('$')\n",
        "  elif (int(np.argmax(res)) == 70):\n",
        "    print('%')\n",
        "  elif (int(np.argmax(res)) == 71):\n",
        "    print('(')\n",
        "  elif (int(np.argmax(res)) == 72):\n",
        "    print(')')\n",
        "  elif (int(np.argmax(res)) == 73):\n",
        "    print(',')\n",
        "  elif (int(np.argmax(res)) == 74):\n",
        "    print(';')\n",
        "  elif (int(np.argmax(res)) == 75):\n",
        "    print('@')\n",
        "  elif (int(np.argmax(res)) == 76):\n",
        "    print('[')\n",
        "  elif (int(np.argmax(res)) == 77):\n",
        "    print(']')\n",
        "  elif (int(np.argmax(res)) == 78):\n",
        "    print('^')\n",
        "  elif (int(np.argmax(res)) == 79):\n",
        "    print('~')\n",
        "  elif (int(np.argmax(res)) == 80):\n",
        "    print('+')\n",
        "  elif (int(np.argmax(res)) == 81):\n",
        "    print('=')\n",
        "  elif (int(np.argmax(res)) == 82):\n",
        "    print('0')\n",
        "  elif (int(np.argmax(res)) == 83):\n",
        "    print('1')\n",
        "  elif (int(np.argmax(res)) == 84):\n",
        "    print('2')\n",
        "  elif (int(np.argmax(res)) == 85):\n",
        "    print('3')\n",
        "  elif (int(np.argmax(res)) == 86):\n",
        "    print('4')\n",
        "  elif (int(np.argmax(res)) == 87):\n",
        "    print('5')\n",
        "  elif (int(np.argmax(res)) == 88):\n",
        "    print('6')\n",
        "  elif (int(np.argmax(res)) == 89):\n",
        "    print('7')\n",
        "  elif (int(np.argmax(res)) == 90):\n",
        "    print('8')\n",
        "  elif (int(np.argmax(res)) == 91):\n",
        "    print('9')\n",
        "  elif (int(np.argmax(res)) == 92):\n",
        "    print('№')\n",
        "  elif (int(np.argmax(res)) == 93):\n",
        "    print('&')\n",
        "  elif (int(np.argmax(res)) == 94):\n",
        "    print('<')\n",
        "  elif (int(np.argmax(res)) == 95):\n",
        "    print('?')\n",
        "  elif (int(np.argmax(res)) == 96):\n",
        "    print(':')\n",
        "  elif (int(np.argmax(res)) == 97):\n",
        "    print('*')\n",
        "  elif (int(np.argmax(res)) == 98):\n",
        "    print('\"')\n",
        "  elif (int(np.argmax(res)) == 99):\n",
        "    print('>')\n",
        "  elif (int(np.argmax(res)) == 100):\n",
        "    print('\\\\')\n",
        "  elif (int(np.argmax(res)) == 101):\n",
        "    print(' ')\n",
        "  elif (int(np.argmax(res)) == 102):\n",
        "    print('|')\n",
        "  elif (int(np.argmax(res)) == 103):\n",
        "    print('/')\n",
        "  elif (int(np.argmax(res)) == 104):\n",
        "    print('.')\n",
        "  elif (int(np.argmax(res)) == 105):\n",
        "    print('{')\n",
        "  elif (int(np.argmax(res)) == 106):\n",
        "    print('}')\n",
        "else:\n",
        "  print(f'Распознанная буква: {chr(int(np.argmax(res)) + ord(\"А\"))}')\n",
        "\n",
        "plt.imshow(x_test[n], cmap=plt.cm.binary)\n",
        "plt.show()"
      ],
      "metadata": {
        "colab": {
          "base_uri": "https://localhost:8080/",
          "height": 933
        },
        "id": "BWBW1eHsFjX5",
        "outputId": "37091f89-ad6b-441f-b492-0429c3483284"
      },
      "execution_count": 24,
      "outputs": [
        {
          "output_type": "stream",
          "name": "stdout",
          "text": [
            "1/1 [==============================] - 0s 22ms/step\n",
            "[[3.96045444e-19 1.91401428e-16 3.26622427e-15 2.64904844e-22\n",
            "  3.78491499e-22 1.85401084e-21 1.00390633e-28 1.03344457e-14\n",
            "  7.39855225e-23 9.37368451e-23 1.73963863e-19 1.46069773e-20\n",
            "  5.26182126e-27 1.73562647e-21 7.32821905e-15 1.05403177e-23\n",
            "  5.09470507e-18 3.45418911e-17 6.31878847e-23 3.24857052e-28\n",
            "  8.70995713e-13 5.60462061e-27 1.98842649e-28 5.94131577e-25\n",
            "  1.20602478e-18 1.74206461e-24 6.77947752e-25 2.21462740e-24\n",
            "  1.40116732e-23 1.68878865e-17 1.62863811e-19 1.85606128e-23\n",
            "  9.90862846e-01 6.60896831e-06 5.60758682e-03 3.48431115e-07\n",
            "  3.28430142e-05 4.88981368e-06 5.11356199e-22 1.11520202e-13\n",
            "  2.54995448e-05 2.99588073e-25 5.24579580e-09 1.20374599e-09\n",
            "  1.97712896e-18 7.15698710e-15 3.41052143e-03 4.88965779e-05\n",
            "  1.37689624e-13 1.19846817e-08 9.53578189e-12 3.01759890e-21\n",
            "  9.66430457e-15 2.60755218e-21 1.46247048e-09 6.05200568e-14\n",
            "  1.17721024e-12 7.65665184e-15 3.57149854e-17 2.71175013e-18\n",
            "  1.12682730e-09 6.16025093e-16 1.02087338e-13 8.82671713e-11\n",
            "  9.04319573e-25 3.49549505e-23 1.74630835e-18 1.21013034e-19\n",
            "  4.62774595e-21 3.11440451e-24 6.89542686e-21 1.42319203e-19\n",
            "  2.40161423e-27 2.97739267e-23 9.09101995e-20 1.68325996e-14\n",
            "  1.65280735e-29 3.09393616e-28 5.01985349e-18 1.42280575e-20\n",
            "  2.50545679e-23 2.24058796e-16 2.05396965e-13 2.41706492e-19\n",
            "  1.09423846e-18 6.00876841e-22 7.98883281e-21 9.92147806e-18\n",
            "  1.11319836e-16 4.00241647e-20 2.64054263e-15 9.82146283e-18\n",
            "  3.27582102e-22 1.87143303e-22 1.67133140e-24 2.25457985e-24\n",
            "  2.30890870e-24 1.34111984e-24 4.73668264e-26 1.84683019e-23\n",
            "  1.18324837e-26 5.66279602e-27 1.60331183e-23 4.09480696e-24\n",
            "  2.82756467e-31 1.75661035e-26 3.80109623e-27]]\n",
            "Распознанная буква: а\n"
          ]
        },
        {
          "output_type": "display_data",
          "data": {
            "text/plain": [
              "<Figure size 640x480 with 1 Axes>"
            ],
            "image/png": "[encoded data removed]"
          },
          "metadata": {}
        }
      ]
    },
    {
      "cell_type": "code",
      "source": [
        "# serialize model to JSON\n",
        "model_json = model.to_json()\n",
        "with open(\"model_v30.12.23.json\", \"w\") as json_file:\n",
        "    json_file.write(model_json)\n",
        "# serialize weights to HDF5\n",
        "model.save_weights(\"model_v30.12.23.h5\")\n",
        "print(\"Saved model to disk\")"
      ],
      "metadata": {
        "colab": {
          "base_uri": "https://localhost:8080/"
        },
        "id": "OlorKMfeYQqu",
        "outputId": "18149d4c-38d3-452a-94ee-a5828dc148de"
      },
      "execution_count": 25,
      "outputs": [
        {
          "output_type": "stream",
          "name": "stdout",
          "text": [
            "Saved model to disk\n"
          ]
        }
      ]
    }
  ]
}