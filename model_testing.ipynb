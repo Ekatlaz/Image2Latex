{
  "nbformat": 4,
  "nbformat_minor": 0,
  "metadata": {
    "colab": {
      "provenance": []
    },
    "kernelspec": {
      "name": "python3",
      "display_name": "Python 3"
    },
    "language_info": {
      "name": "python"
    }
  },
  "cells": [
    {
      "cell_type": "code",
      "execution_count": 1,
      "metadata": {
        "colab": {
          "base_uri": "https://localhost:8080/"
        },
        "id": "7FDv4V7zLrSX",
        "outputId": "9f993512-de6d-4397-d499-4cf303bfd850"
      },
      "outputs": [
        {
          "output_type": "stream",
          "name": "stdout",
          "text": [
            "Collecting get_text\n",
            "  Downloading get_text-0.1.2.tar.gz (6.5 kB)\n",
            "  Preparing metadata (setup.py) ... \u001b[?25l\u001b[?25hdone\n",
            "Requirement already satisfied: Click>=6.0 in /usr/local/lib/python3.10/dist-packages (from get_text) (8.1.7)\n",
            "Requirement already satisfied: requests in /usr/local/lib/python3.10/dist-packages (from get_text) (2.31.0)\n",
            "Requirement already satisfied: beautifulsoup4 in /usr/local/lib/python3.10/dist-packages (from get_text) (4.11.2)\n",
            "Requirement already satisfied: Jinja2 in /usr/local/lib/python3.10/dist-packages (from get_text) (3.1.2)\n",
            "Requirement already satisfied: urllib3 in /usr/local/lib/python3.10/dist-packages (from get_text) (2.0.7)\n",
            "Requirement already satisfied: PyYAML in /usr/local/lib/python3.10/dist-packages (from get_text) (6.0.1)\n",
            "Requirement already satisfied: soupsieve>1.2 in /usr/local/lib/python3.10/dist-packages (from beautifulsoup4->get_text) (2.5)\n",
            "Requirement already satisfied: MarkupSafe>=2.0 in /usr/local/lib/python3.10/dist-packages (from Jinja2->get_text) (2.1.3)\n",
            "Requirement already satisfied: charset-normalizer<4,>=2 in /usr/local/lib/python3.10/dist-packages (from requests->get_text) (3.3.2)\n",
            "Requirement already satisfied: idna<4,>=2.5 in /usr/local/lib/python3.10/dist-packages (from requests->get_text) (3.6)\n",
            "Requirement already satisfied: certifi>=2017.4.17 in /usr/local/lib/python3.10/dist-packages (from requests->get_text) (2023.11.17)\n",
            "Building wheels for collected packages: get_text\n",
            "  Building wheel for get_text (setup.py) ... \u001b[?25l\u001b[?25hdone\n",
            "  Created wheel for get_text: filename=get_text-0.1.2-py3-none-any.whl size=9038 sha256=c4a61b1cc03d1922636a75e6c8b2a9587c60625a71fb0c17bf0cc11a0c8273e3\n",
            "  Stored in directory: /root/.cache/pip/wheels/e4/4c/a0/cae3c3b75ca30d8a9066d3cdbd32f74127a294a7c77df9c6af\n",
            "Successfully built get_text\n",
            "Installing collected packages: get_text\n",
            "Successfully installed get_text-0.1.2\n"
          ]
        }
      ],
      "source": [
        "!pip install get_text"
      ]
    },
    {
      "cell_type": "code",
      "source": [
        "from tensorflow import keras\n",
        "import matplotlib.pyplot as plt\n",
        "import numpy as np\n",
        "from tensorflow.keras.models import model_from_json"
      ],
      "metadata": {
        "id": "9iH32sC7MhMp"
      },
      "execution_count": 2,
      "outputs": []
    },
    {
      "cell_type": "code",
      "source": [
        "import argparse\n",
        "import cv2\n",
        "from get_text import *\n",
        "\n",
        "\n",
        "def main():\n",
        "    json_file = open('model_v30.12.23.json', 'r')\n",
        "    loaded_model_json = json_file.read()\n",
        "    json_file.close()\n",
        "    loaded_model = keras.models.model_from_json(loaded_model_json)\n",
        "    # load weights into new model\n",
        "    loaded_model.load_weights(\"model_v30.12.23.h5\")\n",
        "\n",
        "    img = cv2.imread('1.png', cv2.IMREAD_GRAYSCALE)\n",
        "    img = img / 255\n",
        "    img = cv2.resize(img, (28, 28), interpolation=cv2.INTER_AREA)\n",
        "\n",
        "    plt.imshow(img)\n",
        "    plt.show()\n",
        "    img = np.array(img)\n",
        "    img = np.expand_dims(img, axis=-1)  # Добавить размерность канала\n",
        "    img = np.expand_dims(img, axis=0)\n",
        "    #print(loaded_model.summary())\n",
        "\n",
        "    print(img.shape)\n",
        "    res = loaded_model.predict(img)\n",
        "    print(res)\n",
        "    if (65 < int(np.argmax(res)) < 107):\n",
        "      if (int(np.argmax(res)) == 66):\n",
        "        print('-')\n",
        "      elif (int(np.argmax(res)) == 67):\n",
        "        print('!')\n",
        "      elif (int(np.argmax(res)) == 68):\n",
        "        print('#')\n",
        "      elif (int(np.argmax(res)) == 69):\n",
        "        print('$')\n",
        "      elif (int(np.argmax(res)) == 70):\n",
        "        print('%')\n",
        "      elif (int(np.argmax(res)) == 71):\n",
        "        print('(')\n",
        "      elif (int(np.argmax(res)) == 72):\n",
        "        print(')')\n",
        "      elif (int(np.argmax(res)) == 73):\n",
        "        print(',')\n",
        "      elif (int(np.argmax(res)) == 74):\n",
        "        print(';')\n",
        "      elif (int(np.argmax(res)) == 75):\n",
        "        print('@')\n",
        "      elif (int(np.argmax(res)) == 76):\n",
        "        print('[')\n",
        "      elif (int(np.argmax(res)) == 77):\n",
        "        print(']')\n",
        "      elif (int(np.argmax(res)) == 78):\n",
        "        print('^')\n",
        "      elif (int(np.argmax(res)) == 79):\n",
        "        print('~')\n",
        "      elif (int(np.argmax(res)) == 80):\n",
        "        print('+')\n",
        "      elif (int(np.argmax(res)) == 81):\n",
        "        print('=')\n",
        "      elif (int(np.argmax(res)) == 82):\n",
        "        print('0')\n",
        "      elif (int(np.argmax(res)) == 83):\n",
        "        print('1')\n",
        "      elif (int(np.argmax(res)) == 84):\n",
        "        print('2')\n",
        "      elif (int(np.argmax(res)) == 85):\n",
        "        print('3')\n",
        "      elif (int(np.argmax(res)) == 86):\n",
        "        print('4')\n",
        "      elif (int(np.argmax(res)) == 87):\n",
        "        print('5')\n",
        "      elif (int(np.argmax(res)) == 88):\n",
        "        print('6')\n",
        "      elif (int(np.argmax(res)) == 89):\n",
        "        print('7')\n",
        "      elif (int(np.argmax(res)) == 90):\n",
        "        print('8')\n",
        "      elif (int(np.argmax(res)) == 91):\n",
        "        print('9')\n",
        "      elif (int(np.argmax(res)) == 92):\n",
        "        print('№')\n",
        "      elif (int(np.argmax(res)) == 93):\n",
        "        print('&')\n",
        "      elif (int(np.argmax(res)) == 94):\n",
        "        print('<')\n",
        "      elif (int(np.argmax(res)) == 95):\n",
        "        print('?')\n",
        "      elif (int(np.argmax(res)) == 96):\n",
        "        print(':')\n",
        "      elif (int(np.argmax(res)) == 97):\n",
        "        print('*')\n",
        "      elif (int(np.argmax(res)) == 98):\n",
        "        print('\"')\n",
        "      elif (int(np.argmax(res)) == 99):\n",
        "        print('>')\n",
        "      elif (int(np.argmax(res)) == 100):\n",
        "        print('\\\\')\n",
        "      elif (int(np.argmax(res)) == 101):\n",
        "        print(' ')\n",
        "      elif (int(np.argmax(res)) == 102):\n",
        "        print('|')\n",
        "      elif (int(np.argmax(res)) == 103):\n",
        "        print('/')\n",
        "      elif (int(np.argmax(res)) == 104):\n",
        "        print('.')\n",
        "      elif (int(np.argmax(res)) == 105):\n",
        "        print('{')\n",
        "      elif (int(np.argmax(res)) == 106):\n",
        "        print('}')\n",
        "    else:\n",
        "      print(f'Распознанная буква: {chr(int(np.argmax(res)) + ord(\"А\"))}')\n",
        "#     print(\"begin\")\n",
        "#     parser = argparse.ArgumentParser(description=\"Generate a .tex file from a .pdf file.\")\n",
        "#     parser.add_argument('--filepath', type=str, help=\"\")\n",
        "#     parser.add_argument('--folderpath', type=str, help=\"\")\n",
        "\n",
        "#     args = parser.parse_args()\n",
        "\n",
        "#     filepath = args.filepath\n",
        "#     folderpath = args.folderpath\n",
        "\n",
        "#     print(filepath)\n",
        "#     img = cv2.imread(filepath)\n",
        "#     get_text(img)\n",
        "\n",
        "\n",
        "if __name__ == \"__main__\":\n",
        "    main()\n",
        "\n",
        "\n"
      ],
      "metadata": {
        "colab": {
          "base_uri": "https://localhost:8080/",
          "height": 951
        },
        "id": "9rzgurefMJ0D",
        "outputId": "c38daed8-4082-43a5-d44a-37d565b9a780"
      },
      "execution_count": 12,
      "outputs": [
        {
          "output_type": "display_data",
          "data": {
            "text/plain": [
              "<Figure size 640x480 with 1 Axes>"
            ],
            "image/png": "[encoded data removed]"
          },
          "metadata": {}
        },
        {
          "output_type": "stream",
          "name": "stdout",
          "text": [
            "(1, 28, 28, 1)\n",
            "1/1 [==============================] - 0s 62ms/step\n",
            "[[3.53353277e-18 6.06341893e-03 1.79936609e-03 7.27871509e-07\n",
            "  9.90637017e-11 5.81953282e-06 1.10756885e-28 6.06820293e-17\n",
            "  1.37289051e-08 5.10562531e-20 5.74707556e-05 2.14760447e-13\n",
            "  5.00844543e-18 3.02600301e-06 3.65653373e-02 5.68675375e-07\n",
            "  2.14834273e-01 5.26519259e-04 5.92079164e-15 2.00989819e-13\n",
            "  2.89737756e-22 2.84976646e-18 4.19993658e-11 2.86617992e-14\n",
            "  1.51618860e-08 2.44114482e-18 5.67915834e-21 5.17635976e-21\n",
            "  1.05019516e-19 4.55746585e-15 2.24622145e-05 8.70275955e-15\n",
            "  1.03674385e-14 5.83488509e-05 3.81408136e-05 2.61317652e-08\n",
            "  1.83579456e-13 6.43303736e-07 5.56038744e-32 7.46045775e-25\n",
            "  1.98348502e-08 3.28608000e-21 1.56567432e-06 5.18066388e-22\n",
            "  3.33892521e-20 5.83858863e-08 2.12144503e-11 4.48401032e-08\n",
            "  7.35074162e-01 1.41051101e-10 4.33822700e-11 4.77215508e-07\n",
            "  1.80605457e-17 1.99820428e-18 8.22694980e-15 2.32531699e-18\n",
            "  4.59103148e-18 8.27660782e-26 9.56190422e-15 1.81287248e-06\n",
            "  4.94550215e-03 1.97147108e-24 1.88901925e-08 3.33607831e-17\n",
            "  2.10158838e-20 6.25015280e-20 2.49077007e-21 1.04354483e-10\n",
            "  6.57875094e-20 5.20164546e-18 1.52611201e-22 1.03671776e-11\n",
            "  5.29482404e-12 4.57749343e-19 1.74636052e-16 9.66873117e-19\n",
            "  6.35609950e-17 7.42218669e-19 6.58973394e-18 2.73379400e-27\n",
            "  3.63694109e-22 3.85310520e-20 2.57553637e-07 1.48067729e-14\n",
            "  6.51905053e-18 1.55581407e-22 6.02829328e-23 6.14524606e-15\n",
            "  1.40283618e-12 2.15115035e-17 1.13157313e-15 7.60295781e-18\n",
            "  2.02640254e-22 1.35906395e-19 3.75718727e-30 1.54346294e-25\n",
            "  3.93643787e-27 3.29523262e-20 5.69593750e-26 1.35551687e-27\n",
            "  3.84672362e-24 1.72762680e-33 9.77345327e-19 9.75668014e-21\n",
            "  1.85976276e-25 8.60672622e-21 4.84115632e-22]]\n",
            "Распознанная буква: р\n"
          ]
        }
      ]
    }
  ]
}