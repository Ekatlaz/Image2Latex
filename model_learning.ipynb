{
  "nbformat": 4,
  "nbformat_minor": 0,
  "metadata": {
    "colab": {
      "provenance": []
    },
    "kernelspec": {
      "name": "python3",
      "display_name": "Python 3"
    },
    "language_info": {
      "name": "python"
    }
  },
  "cells": [
    {
      "cell_type": "code",
      "execution_count": 2,
      "metadata": {
        "id": "0I-BPnP8QhvN"
      },
      "outputs": [],
      "source": [
        "import os\n",
        "import cv2\n",
        "import numpy as np\n",
        "from sklearn.model_selection import train_test_split\n",
        "from keras import layers, models\n",
        "import requests\n",
        "from io import BytesIO\n",
        "from zipfile import ZipFile"
      ]
    },
    {
      "cell_type": "code",
      "source": [
        "# Загрузка и подготовка данных\n",
        "from google.colab import drive\n",
        "drive.mount('/content/drive')\n",
        "\n",
        "data_path = \"/content/drive/My Drive/Project/DataSetCyrillic\""
      ],
      "metadata": {
        "colab": {
          "base_uri": "https://localhost:8080/"
        },
        "id": "nPwTTghFWhBZ",
        "outputId": "153bc6d5-7c50-4b46-d12b-41d43ed7c5a5"
      },
      "execution_count": 6,
      "outputs": [
        {
          "output_type": "stream",
          "name": "stdout",
          "text": [
            "Mounted at /content/drive\n"
          ]
        }
      ]
    },
    {
      "cell_type": "code",
      "source": [
        "# размер изображений 28 на 28 => входной вектор длины 784\n",
        "labels = []\n",
        "images = []\n",
        "\n",
        "for folder in os.listdir(data_path):\n",
        "    for filename in os.listdir(os.path.join(data_path, folder)):\n",
        "        img_path = os.path.join(data_path, folder, filename)\n",
        "        img = cv2.imread(img_path, cv2.IMREAD_GRAYSCALE)\n",
        "        img = img / 255  # Нормализация значений пикселей\n",
        "        label = ord(folder[0]) - ord('А')\n",
        "        images.append(img)\n",
        "        labels.append(label)"
      ],
      "metadata": {
        "id": "1RpRrDgrX7cx"
      },
      "execution_count": 54,
      "outputs": []
    },
    {
      "cell_type": "code",
      "source": [
        "# Преобразование в массив numpy\n",
        "images = np.array(images)\n",
        "labels = np.array(labels)"
      ],
      "metadata": {
        "id": "3QKnJEGehbFk"
      },
      "execution_count": 55,
      "outputs": []
    },
    {
      "cell_type": "code",
      "source": [
        "# Разделение данных на обучающий и тестовый наборы\n",
        "x_train, x_test, y_train, y_test = train_test_split(images, labels, test_size=0.2)"
      ],
      "metadata": {
        "id": "ztsqu6VShjCf"
      },
      "execution_count": 56,
      "outputs": []
    },
    {
      "cell_type": "code",
      "source": [
        "from tensorflow import keras\n",
        "from tensorflow.keras.layers import Dense, Flatten"
      ],
      "metadata": {
        "id": "QoNpR7cPmDMk"
      },
      "execution_count": 50,
      "outputs": []
    },
    {
      "cell_type": "code",
      "source": [
        "model = models.Sequential()\n",
        "model.add(layers.Conv2D(32, (3, 3), activation='relu', input_shape=(28, 28, 1)))\n",
        "model.add(layers.MaxPooling2D((2, 2)))\n",
        "model.add(layers.Flatten())\n",
        "model.add(layers.Dense(128, activation='relu'))  # скрытый слой 128 нейронов\n",
        "model.add(layers.Dense(66, activation='softmax'))  # выходной 63 нейрона (33 буквы, из них все, кроме ъ, ы, ь в двух вариантах (большая и маленькая))\n",
        "# 66 для краткости\n",
        "\n",
        "print(model.summary())"
      ],
      "metadata": {
        "colab": {
          "base_uri": "https://localhost:8080/"
        },
        "id": "IdXZc02CnVay",
        "outputId": "8ed02540-983c-4975-bbea-bd6818f2c175"
      },
      "execution_count": 51,
      "outputs": [
        {
          "output_type": "stream",
          "name": "stdout",
          "text": [
            "Model: \"sequential_8\"\n",
            "_________________________________________________________________\n",
            " Layer (type)                Output Shape              Param #   \n",
            "=================================================================\n",
            " conv2d_5 (Conv2D)           (None, 26, 26, 32)        320       \n",
            "                                                                 \n",
            " max_pooling2d_5 (MaxPoolin  (None, 13, 13, 32)        0         \n",
            " g2D)                                                            \n",
            "                                                                 \n",
            " flatten_8 (Flatten)         (None, 5408)              0         \n",
            "                                                                 \n",
            " dense_16 (Dense)            (None, 128)               692352    \n",
            "                                                                 \n",
            " dense_17 (Dense)            (None, 66)                8514      \n",
            "                                                                 \n",
            "=================================================================\n",
            "Total params: 701186 (2.67 MB)\n",
            "Trainable params: 701186 (2.67 MB)\n",
            "Non-trainable params: 0 (0.00 Byte)\n",
            "_________________________________________________________________\n",
            "None\n"
          ]
        }
      ]
    },
    {
      "cell_type": "code",
      "source": [
        "model.compile(optimizer='adam', loss='sparse_categorical_crossentropy', metrics=['accuracy'])"
      ],
      "metadata": {
        "id": "-AcyW3wUoEvB"
      },
      "execution_count": 57,
      "outputs": []
    },
    {
      "cell_type": "code",
      "source": [
        "model.fit(x_train, y_train, batch_size=32, epochs=5, validation_split=0.2)"
      ],
      "metadata": {
        "colab": {
          "base_uri": "https://localhost:8080/"
        },
        "id": "CouuJXU6pBLP",
        "outputId": "ac350339-dacb-4b79-ca5a-f8e813c72997"
      },
      "execution_count": 58,
      "outputs": [
        {
          "output_type": "stream",
          "name": "stdout",
          "text": [
            "Epoch 1/5\n",
            "493/493 [==============================] - 12s 23ms/step - loss: 3.9318 - accuracy: 0.0535 - val_loss: 3.6457 - val_accuracy: 0.0959\n",
            "Epoch 2/5\n",
            "493/493 [==============================] - 12s 25ms/step - loss: 3.3934 - accuracy: 0.1405 - val_loss: 3.2220 - val_accuracy: 0.1743\n",
            "Epoch 3/5\n",
            "493/493 [==============================] - 14s 28ms/step - loss: 3.0073 - accuracy: 0.2227 - val_loss: 2.8803 - val_accuracy: 0.2547\n",
            "Epoch 4/5\n",
            "493/493 [==============================] - 12s 24ms/step - loss: 2.7310 - accuracy: 0.2917 - val_loss: 2.6913 - val_accuracy: 0.2950\n",
            "Epoch 5/5\n",
            "493/493 [==============================] - 12s 23ms/step - loss: 2.5431 - accuracy: 0.3337 - val_loss: 2.5565 - val_accuracy: 0.3283\n"
          ]
        },
        {
          "output_type": "execute_result",
          "data": {
            "text/plain": [
              "<keras.src.callbacks.History at 0x7c391a39f760>"
            ]
          },
          "metadata": {},
          "execution_count": 58
        }
      ]
    }
  ]
}